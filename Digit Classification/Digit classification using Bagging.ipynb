{
 "cells": [
  {
   "cell_type": "markdown",
   "metadata": {
    "id": "0UfujtnS0Zv3"
   },
   "source": [
    "Scikit-learn's implementation of baggin lies in the sklearn.ensemble package. BaggingClassifier is the corresponding class for classification problems. It has a number of interesting parameters, allwing for greater flexibility. It can use any scikit-learn estimator by specifying it with base_estimator. \n",
    "\n",
    "Furthermore, n_esimators dictates the ensemble's size (and, consequently, the number of bootstrap samples that will be generated), while n_jobs dictates how many jobs (processes) will be used to train and predict with each base learner."
   ]
  },
  {
   "cell_type": "code",
   "execution_count": 1,
   "metadata": {
    "id": "SCkrx8Wk0IVz"
   },
   "outputs": [],
   "source": [
    "# Step 1: Import libraries and data\n",
    "from sklearn.datasets import load_digits\n",
    "from sklearn.tree import DecisionTreeClassifier\n",
    "from sklearn.ensemble import BaggingClassifier\n",
    "from sklearn import metrics\n",
    "digits = load_digits()"
   ]
  },
  {
   "cell_type": "code",
   "execution_count": 2,
   "metadata": {
    "id": "jowQ2TsC1fYE"
   },
   "outputs": [],
   "source": [
    "# Split the train and test set\n",
    "train_size = 1500\n",
    "train_x, train_y = digits.data[:train_size], digits.target[:train_size]\n",
    "test_x, test_y = digits.data[train_size:], digits.target[train_size:]"
   ]
  },
  {
   "cell_type": "code",
   "execution_count": 3,
   "metadata": {
    "colab": {
     "base_uri": "https://localhost:8080/"
    },
    "id": "MaCDeds31whW",
    "outputId": "040d8371-b891-4898-87cb-8f117f669fe6"
   },
   "outputs": [
    {
     "name": "stderr",
     "output_type": "stream",
     "text": [
      "C:\\ProgramData\\Anaconda3\\lib\\site-packages\\sklearn\\ensemble\\_bagging.py:638: UserWarning: Some inputs do not have OOB scores. This probably means too few estimators were used to compute any reliable oob estimates.\n",
      "  warn(\"Some inputs do not have OOB scores. \"\n",
      "C:\\ProgramData\\Anaconda3\\lib\\site-packages\\sklearn\\ensemble\\_bagging.py:642: RuntimeWarning: invalid value encountered in true_divide\n",
      "  oob_decision_function = (predictions /\n"
     ]
    }
   ],
   "source": [
    "#Step 2: we need to create train and evaluate the estimator\n",
    "#Create the ensemble\n",
    "ensemble_size = 10\n",
    "ensemble = BaggingClassifier(base_estimator=DecisionTreeClassifier(),\n",
    "                             n_estimators=ensemble_size,\n",
    "                             oob_score=True)\n",
    "# Train the ensemble\n",
    "ensemble.fit(train_x, train_y)\n",
    "# Evaluate the ensemble\n",
    "ensemble_predictions = ensemble.predict(test_x)\n",
    "\n",
    "ensemble_acc = metrics.accuracy_score(test_y, ensemble_predictions)"
   ]
  },
  {
   "cell_type": "code",
   "execution_count": 4,
   "metadata": {
    "colab": {
     "base_uri": "https://localhost:8080/"
    },
    "id": "ABJcBeEY23kX",
    "outputId": "3d560348-9cf6-428e-bb30-176b29e2a8fe"
   },
   "outputs": [
    {
     "name": "stdout",
     "output_type": "stream",
     "text": [
      "Bagging: 0.84\n"
     ]
    }
   ],
   "source": [
    "# Step 3: Print accuracy\n",
    "print('Bagging: %.2f'%ensemble_acc)"
   ]
  },
  {
   "cell_type": "markdown",
   "metadata": {
    "id": "r-aN4xPw3BdR"
   },
   "source": [
    "The final achieved accuracy is 87%. In our example we only choose an ensemble_size of 10."
   ]
  }
 ],
 "metadata": {
  "colab": {
   "name": "Udemy Bagging implementation Method 2 for classification.ipynb",
   "provenance": []
  },
  "kernelspec": {
   "display_name": "Python 3",
   "language": "python",
   "name": "python3"
  },
  "language_info": {
   "codemirror_mode": {
    "name": "ipython",
    "version": 3
   },
   "file_extension": ".py",
   "mimetype": "text/x-python",
   "name": "python",
   "nbconvert_exporter": "python",
   "pygments_lexer": "ipython3",
   "version": "3.8.5"
  }
 },
 "nbformat": 4,
 "nbformat_minor": 1
}
