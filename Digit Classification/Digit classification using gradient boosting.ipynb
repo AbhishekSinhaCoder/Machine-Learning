{
 "cells": [
  {
   "cell_type": "markdown",
   "metadata": {
    "id": "ZudB4Mr1XmXj"
   },
   "source": [
    "Scikit-learn also implements gradient boositng regression and classification. The ensemble package under GradientBoostingRegressor and GradientBoostingClassifier, respectively. The two classes store the errors at each step in the train_score_attribute of the object"
   ]
  },
  {
   "cell_type": "code",
   "execution_count": 1,
   "metadata": {
    "id": "4XqmT6w1VZLe"
   },
   "outputs": [],
   "source": [
    "# Step 1: Importing the libraries and data\n",
    "from sklearn.datasets import load_digits\n",
    "from sklearn.ensemble import GradientBoostingClassifier\n",
    "from sklearn.tree import DecisionTreeClassifier\n",
    "from sklearn import metrics\n",
    "import numpy as np\n",
    "digits = load_digits()\n",
    "train_size = 1500\n",
    "# Split the train and test set\n",
    "train_x, train_y = digits.data[:train_size], digits.target[:train_size]\n",
    "test_x, test_y = digits.data[train_size:], digits.target[train_size:]"
   ]
  },
  {
   "cell_type": "code",
   "execution_count": 2,
   "metadata": {
    "id": "rgAwUofOYpDp"
   },
   "outputs": [],
   "source": [
    "np.random.seed(123456)"
   ]
  },
  {
   "cell_type": "code",
   "execution_count": 3,
   "metadata": {
    "id": "IyuvlbzfYslE"
   },
   "outputs": [],
   "source": [
    "# Step 2: Create the ensemble\n",
    "ensemble_size =200\n",
    "learning_rate = 0.1\n",
    "ensemble = GradientBoostingClassifier(n_estimators=ensemble_size, learning_rate=learning_rate)"
   ]
  },
  {
   "cell_type": "code",
   "execution_count": 4,
   "metadata": {
    "id": "WD-tJFz-Y7sF"
   },
   "outputs": [],
   "source": [
    "# Step 3: Evaluate the ensemble\n",
    "ensemble.fit(train_x, train_y)\n",
    "ensemble_predictions = ensemble.predict(test_x)\n",
    "ensemble_acc = metrics.accuracy_score(test_y, ensemble_predictions)"
   ]
  },
  {
   "cell_type": "code",
   "execution_count": 5,
   "metadata": {
    "colab": {
     "base_uri": "https://localhost:8080/"
    },
    "id": "TjuS7JoiZETu",
    "outputId": "79578a15-fcfa-44b6-ecc8-52db38f61748"
   },
   "outputs": [
    {
     "name": "stdout",
     "output_type": "stream",
     "text": [
      "Boosting: 0.88 \n"
     ]
    }
   ],
   "source": [
    "# Step 4: print accuracy\n",
    "\n",
    "print('Boosting: %.2f '% ensemble_acc)\n"
   ]
  },
  {
   "cell_type": "markdown",
   "metadata": {
    "id": "sQKtzk_TZgpx"
   },
   "source": [
    "The accuracy achieved with the specific ensemble size is 88%."
   ]
  }
 ],
 "metadata": {
  "colab": {
   "name": "Udemy Gradient Boosting  implementation Method 2 for Classification.ipynb",
   "provenance": []
  },
  "kernelspec": {
   "display_name": "Python 3",
   "language": "python",
   "name": "python3"
  },
  "language_info": {
   "codemirror_mode": {
    "name": "ipython",
    "version": 3
   },
   "file_extension": ".py",
   "mimetype": "text/x-python",
   "name": "python",
   "nbconvert_exporter": "python",
   "pygments_lexer": "ipython3",
   "version": "3.8.5"
  }
 },
 "nbformat": 4,
 "nbformat_minor": 1
}
