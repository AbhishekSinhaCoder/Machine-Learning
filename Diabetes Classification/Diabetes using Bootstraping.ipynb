{
 "cells": [
  {
   "cell_type": "markdown",
   "metadata": {
    "id": "qQy5nPEZdz9J"
   },
   "source": [
    "Bootstrapping is a resampling method. In statistics, resampling entails the use of many samples generated from an original sample. \n",
    "\n",
    "\n",
    "In machine learning terms, the sample is our training data.\n",
    "\n",
    "The main idea is to use the original sample as the population (the whole domain of our problem) and the generated sub-samples as samples\n",
    "\n",
    "\n",
    "**Creating bootstrap samples**\n",
    "\n",
    "To create bootstrap samples, we resample with replacement (each instance may be selected multiple times) from our original sample.\n",
    "\n",
    "This means that a single instance can be selected multiple times. Suppose we have data for 100 individuals. The data contains the wieght and height of each individual. If we generate random numbers from 1 to 100 and add the correspoidng data to a new dataset, we have essentially created a bootstrap sample"
   ]
  },
  {
   "cell_type": "code",
   "execution_count": 1,
   "metadata": {
    "id": "9mAYul0A9Rm0"
   },
   "outputs": [],
   "source": [
    "# Step 1: Import libraries and data\n",
    "import numpy as np\n",
    "import matplotlib.pyplot as plt\n",
    "from sklearn.datasets import load_diabetes\n",
    "diabetes= load_diabetes()"
   ]
  },
  {
   "cell_type": "code",
   "execution_count": 2,
   "metadata": {
    "colab": {
     "base_uri": "https://localhost:8080/"
    },
    "id": "8p0YnDWrfNkx",
    "outputId": "e8a319c3-7431-4270-e27b-f72112b76a56"
   },
   "outputs": [
    {
     "name": "stdout",
     "output_type": "stream",
     "text": [
      "152.13348416289594\n",
      "77.00574586945044\n"
     ]
    }
   ],
   "source": [
    "# Step 2: Print the original sample's statistics\n",
    "target = diabetes.target\n",
    "print(np.mean(target))\n",
    "print(np.std(target))"
   ]
  },
  {
   "cell_type": "markdown",
   "metadata": {
    "id": "IcRGgyZmfd9l"
   },
   "source": [
    "We then create the bootstrap samples and statistics and store them in bootstrap_stats. We could store the whole bootstrap samples, but it is not memory efficient to do so.\n",
    "\n",
    "Furthermore, we can only care about the statistics, so it makes sense only to store them.\n",
    "\n",
    "\n",
    "Here we create 10000 bootstrap samples and statistics"
   ]
  },
  {
   "cell_type": "code",
   "execution_count": 3,
   "metadata": {
    "id": "m0dha51Tfdew"
   },
   "outputs": [],
   "source": [
    "# Step 3: We need to create the bootstrap samples and statistics\n",
    "\n",
    "bootstrap_stats =[]\n",
    "for _ in range(10000):\n",
    "  bootstrap_sample = np.random.choice(target, size=len(target))\n",
    "  mean= np.mean(bootstrap_sample)\n",
    "  std = np.std(bootstrap_sample)\n",
    "  bootstrap_stats.append((mean, std))\n",
    "bootstrap_stats = np.array(bootstrap_stats)"
   ]
  },
  {
   "cell_type": "markdown",
   "metadata": {
    "id": "bpTG7kn2gPaQ"
   },
   "source": [
    "We can plot the histogram of the mean and standard deviation, as well as calculate the standard error (that is the standard deviation of the statistic's distributions) for each"
   ]
  },
  {
   "cell_type": "code",
   "execution_count": 4,
   "metadata": {
    "colab": {
     "base_uri": "https://localhost:8080/",
     "height": 281
    },
    "id": "DnrPA5P8gPND",
    "outputId": "a73a6d6b-3fb3-4fb6-f7f2-ea7b2dc785b8"
   },
   "outputs": [
    {
     "data": {
      "image/png": "[encoded data removed]",
      "text/plain": [
       "<Figure size 432x288 with 2 Axes>"
      ]
     },
     "metadata": {
      "needs_background": "light"
     },
     "output_type": "display_data"
    }
   ],
   "source": [
    "# Step 4:  plot the histogram of the mean and standard deviation, as well as calcualte the standard error \n",
    "plt.figure()\n",
    "plt.subplot(2,1,1)\n",
    "std_err = np.std(bootstrap_stats[:,0])\n",
    "plt.title('Mean, Std. Error: %.2f'%std_err)\n",
    "plt.hist(bootstrap_stats[:,0], bins=20)\n",
    "\n",
    "plt.subplot(2,1,2)\n",
    "std_err = np.std(bootstrap_stats[:,1])\n",
    "plt.title('Std, Dev, Std. Error: %.2f'%std_err)\n",
    "plt.hist(bootstrap_stats[:,1], bins=20)\n",
    "plt.show()"
   ]
  },
  {
   "cell_type": "markdown",
   "metadata": {
    "id": "rMaMbX44hVvO"
   },
   "source": [
    "Note that due to the inherent randomness of the process (for which instances will be selected for each bootstrap sample), the result may vary each time the procedure is executed. A higher number of bootstrap samples will help to stabilize the results. Nonetheless, it is a useful technique to calcualte the standard error, confidence intervals, and other statistics without making any assumptions about the underlying distribution."
   ]
  }
 ],
 "metadata": {
  "colab": {
   "collapsed_sections": [],
   "name": "Udemy Bootstrapping Implementation.ipynb",
   "provenance": []
  },
  "kernelspec": {
   "display_name": "Python 3",
   "language": "python",
   "name": "python3"
  },
  "language_info": {
   "codemirror_mode": {
    "name": "ipython",
    "version": 3
   },
   "file_extension": ".py",
   "mimetype": "text/x-python",
   "name": "python",
   "nbconvert_exporter": "python",
   "pygments_lexer": "ipython3",
   "version": "3.8.5"
  }
 },
 "nbformat": 4,
 "nbformat_minor": 1
}
