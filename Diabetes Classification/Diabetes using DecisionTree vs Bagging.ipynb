{
 "cells": [
  {
   "cell_type": "markdown",
   "metadata": {
    "id": "_1i8xGKY4OJd"
   },
   "source": [
    "For regression purposes, we will use the BaggingRegressor class from the same sklearn.ensemble package. We will also instantiate a single DecisionTreeRegressor to compare the result."
   ]
  },
  {
   "cell_type": "code",
   "execution_count": 1,
   "metadata": {
    "id": "KCIR-T6K34lx"
   },
   "outputs": [],
   "source": [
    "# Step 1: Import libraries and data\n",
    "from sklearn.datasets import load_diabetes\n",
    "from sklearn.tree import DecisionTreeRegressor\n",
    "from sklearn.ensemble import BaggingRegressor\n",
    "from sklearn import metrics\n",
    "import numpy as np\n",
    "diabetes=load_diabetes()"
   ]
  },
  {
   "cell_type": "code",
   "execution_count": 2,
   "metadata": {
    "id": "n1oBiWlW4v2n"
   },
   "outputs": [],
   "source": [
    "np.random.seed(1234)\n",
    "# Split the train and test set\n",
    "train_x, train_y = diabetes.data[:400], diabetes.target[:400]\n",
    "test_x, test_y = diabetes.data[400:], diabetes.target[400:]"
   ]
  },
  {
   "cell_type": "markdown",
   "metadata": {
    "id": "M9rcOTa85EN9"
   },
   "source": [
    "We need to instantiate the single decision tree and the ensemble. Note that we allow for a relatively deep decision tree by specifying max_depth = 6. This allows the creation of diverse and unstable models, which greatly benefits bagging. if we restrict the maximum depth to 2 or 3 levels, we will see that bagging does not perform better than a single model."
   ]
  },
  {
   "cell_type": "code",
   "execution_count": 3,
   "metadata": {
    "id": "eerhTB2h5iki"
   },
   "outputs": [],
   "source": [
    "# Step 2: Create the ensemble and a signle base learner for comparison\n",
    "estimator = DecisionTreeRegressor(max_depth=6)\n",
    "ensemble= BaggingRegressor(base_estimator=estimator, n_estimators=10)"
   ]
  },
  {
   "cell_type": "code",
   "execution_count": 4,
   "metadata": {
    "id": "EAwzuD8-5ivH"
   },
   "outputs": [],
   "source": [
    "# Step 3: train and evaluate both the ensemble and the base learner\n",
    "ensemble.fit(train_x, train_y)\n",
    "ensemble_predictions = ensemble.predict(test_x)\n",
    "estimator.fit(train_x, train_y)\n",
    "single_predictions = estimator.predict(test_x)\n",
    "ensemble_r2 = metrics.r2_score(test_y, ensemble_predictions)\n",
    "ensemble_mse = metrics.mean_squared_error(test_y, ensemble_predictions)\n",
    "\n",
    "single_r2 = metrics.r2_score(test_y, single_predictions)\n",
    "single_mse = metrics.mean_squared_error(test_y, single_predictions)"
   ]
  },
  {
   "cell_type": "code",
   "execution_count": 5,
   "metadata": {
    "colab": {
     "base_uri": "https://localhost:8080/"
    },
    "id": "c-Eb5NhV6cbN",
    "outputId": "b4bb60f7-61e0-4957-b1af-2b67726c7183"
   },
   "outputs": [
    {
     "name": "stdout",
     "output_type": "stream",
     "text": [
      "Bagging r-squared: 0.52\n",
      "Bagging MSE: 2684.82\n",
      "------------------------------\n",
      "Decision Tree r-squared: 0.15\n",
      "Decision Tree MSE: 4733.35\n"
     ]
    }
   ],
   "source": [
    "# Step 4: Print the metrics\n",
    "print('Bagging r-squared: %.2f'%ensemble_r2)\n",
    "print('Bagging MSE: %.2f'% ensemble_mse)\n",
    "print('-'*30)\n",
    "print('Decision Tree r-squared: %.2f'%single_r2)\n",
    "print('Decision Tree MSE: %.2f'%single_mse)"
   ]
  },
  {
   "cell_type": "markdown",
   "metadata": {
    "id": "7M0OF8qH6894"
   },
   "source": [
    "The ensemble greatly outperform the single model by prodicing both higher R-squared and lower mean squared error (MSE). As mentioned earlier, this is due to the fact that the base learners are allowed to create deep and unstable models."
   ]
  }
 ],
 "metadata": {
  "colab": {
   "name": "Udemy Bagging implementation Method 2 for regression.ipynb",
   "provenance": []
  },
  "kernelspec": {
   "display_name": "Python 3",
   "language": "python",
   "name": "python3"
  },
  "language_info": {
   "codemirror_mode": {
    "name": "ipython",
    "version": 3
   },
   "file_extension": ".py",
   "mimetype": "text/x-python",
   "name": "python",
   "nbconvert_exporter": "python",
   "pygments_lexer": "ipython3",
   "version": "3.8.5"
  }
 },
 "nbformat": 4,
 "nbformat_minor": 1
}
