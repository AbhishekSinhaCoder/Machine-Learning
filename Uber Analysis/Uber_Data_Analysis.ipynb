{
  "nbformat": 4,
  "nbformat_minor": 2,
  "metadata": {
    "kernelspec": {
      "name": "python3",
      "display_name": "Python 3.9.6 64-bit ('Python39')"
    },
    "language_info": {
      "codemirror_mode": {
        "name": "ipython",
        "version": 3
      },
      "file_extension": ".py",
      "mimetype": "text/x-python",
      "name": "python",
      "nbconvert_exporter": "python",
      "pygments_lexer": "ipython3",
      "version": "3.9.6"
    },
    "colab": {
      "name": "Uber Data Analysis.ipynb",
      "provenance": [],
      "collapsed_sections": [],
      "toc_visible": true
    },
    "interpreter": {
      "hash": "ac59ebe37160ed0dfa835113d9b8498d9f09ceb179beaac4002f036b9467c963"
    }
  },
  "cells": [
    {
      "cell_type": "markdown",
      "source": [
        "#**Uber Data Analysis With Python**"
      ],
      "metadata": {
        "id": "LazCrUBzgWjH"
      }
    },
    {
      "cell_type": "markdown",
      "source": [
        "**Uber Technologies, Inc.**, commonly known as **Uber**, is an American technology company. Its services include ride-hailing, food delivery, package delivery, couriers, freight transportation, and, through a partnership with Lime, electric bicycle and motorized scooter rental.\r\n",
        "\r\n",
        "We will main use data regarding **Uber ride**\r\n"
      ],
      "metadata": {
        "id": "aeoZayUdiCQR"
      }
    },
    {
      "cell_type": "markdown",
      "source": [
        "<br>\n",
        "\n",
        "##**Import The Necessary Libraries**"
      ],
      "metadata": {
        "id": "SbwxbVDUkUR6"
      }
    },
    {
      "cell_type": "code",
      "execution_count": 1,
      "source": [
        "import pandas as pd\r\n",
        "import numpy as np\r\n",
        "import datetime\r\n",
        "import matplotlib\r\n",
        "import matplotlib.pyplot as plt\r\n",
        "import seaborn as sns\r\n",
        "import calendar"
      ],
      "outputs": [],
      "metadata": {
        "id": "Vy2A0SZ_eeMg"
      }
    },
    {
      "cell_type": "code",
      "execution_count": 2,
      "source": [
        "data=pd.read_csv('Uber Drives - .csv')\r\n",
        "data.head()"
      ],
      "outputs": [
        {
          "output_type": "execute_result",
          "data": {
            "text/plain": [
              "      START_DATE*       END_DATE* CATEGORY*       START*            STOP*  \\\n",
              "0  1/1/2016 21:11  1/1/2016 21:17  Business  Fort Pierce      Fort Pierce   \n",
              "1   1/2/2016 1:25   1/2/2016 1:37  Business  Fort Pierce      Fort Pierce   \n",
              "2  1/2/2016 20:25  1/2/2016 20:38  Business  Fort Pierce      Fort Pierce   \n",
              "3  1/5/2016 17:31  1/5/2016 17:45  Business  Fort Pierce      Fort Pierce   \n",
              "4  1/6/2016 14:42  1/6/2016 15:49  Business  Fort Pierce  West Palm Beach   \n",
              "\n",
              "   MILES*         PURPOSE*  \n",
              "0     5.1   Meal/Entertain  \n",
              "1     5.0              NaN  \n",
              "2     4.8  Errand/Supplies  \n",
              "3     4.7          Meeting  \n",
              "4    63.7   Customer Visit  "
            ],
            "text/html": [
              "<div>\n",
              "<style scoped>\n",
              "    .dataframe tbody tr th:only-of-type {\n",
              "        vertical-align: middle;\n",
              "    }\n",
              "\n",
              "    .dataframe tbody tr th {\n",
              "        vertical-align: top;\n",
              "    }\n",
              "\n",
              "    .dataframe thead th {\n",
              "        text-align: right;\n",
              "    }\n",
              "</style>\n",
              "<table border=\"1\" class=\"dataframe\">\n",
              "  <thead>\n",
              "    <tr style=\"text-align: right;\">\n",
              "      <th></th>\n",
              "      <th>START_DATE*</th>\n",
              "      <th>END_DATE*</th>\n",
              "      <th>CATEGORY*</th>\n",
              "      <th>START*</th>\n",
              "      <th>STOP*</th>\n",
              "      <th>MILES*</th>\n",
              "      <th>PURPOSE*</th>\n",
              "    </tr>\n",
              "  </thead>\n",
              "  <tbody>\n",
              "    <tr>\n",
              "      <th>0</th>\n",
              "      <td>1/1/2016 21:11</td>\n",
              "      <td>1/1/2016 21:17</td>\n",
              "      <td>Business</td>\n",
              "      <td>Fort Pierce</td>\n",
              "      <td>Fort Pierce</td>\n",
              "      <td>5.1</td>\n",
              "      <td>Meal/Entertain</td>\n",
              "    </tr>\n",
              "    <tr>\n",
              "      <th>1</th>\n",
              "      <td>1/2/2016 1:25</td>\n",
              "      <td>1/2/2016 1:37</td>\n",
              "      <td>Business</td>\n",
              "      <td>Fort Pierce</td>\n",
              "      <td>Fort Pierce</td>\n",
              "      <td>5.0</td>\n",
              "      <td>NaN</td>\n",
              "    </tr>\n",
              "    <tr>\n",
              "      <th>2</th>\n",
              "      <td>1/2/2016 20:25</td>\n",
              "      <td>1/2/2016 20:38</td>\n",
              "      <td>Business</td>\n",
              "      <td>Fort Pierce</td>\n",
              "      <td>Fort Pierce</td>\n",
              "      <td>4.8</td>\n",
              "      <td>Errand/Supplies</td>\n",
              "    </tr>\n",
              "    <tr>\n",
              "      <th>3</th>\n",
              "      <td>1/5/2016 17:31</td>\n",
              "      <td>1/5/2016 17:45</td>\n",
              "      <td>Business</td>\n",
              "      <td>Fort Pierce</td>\n",
              "      <td>Fort Pierce</td>\n",
              "      <td>4.7</td>\n",
              "      <td>Meeting</td>\n",
              "    </tr>\n",
              "    <tr>\n",
              "      <th>4</th>\n",
              "      <td>1/6/2016 14:42</td>\n",
              "      <td>1/6/2016 15:49</td>\n",
              "      <td>Business</td>\n",
              "      <td>Fort Pierce</td>\n",
              "      <td>West Palm Beach</td>\n",
              "      <td>63.7</td>\n",
              "      <td>Customer Visit</td>\n",
              "    </tr>\n",
              "  </tbody>\n",
              "</table>\n",
              "</div>"
            ]
          },
          "metadata": {},
          "execution_count": 2
        }
      ],
      "metadata": {
        "colab": {
          "base_uri": "https://localhost:8080/",
          "height": 204
        },
        "id": "dQ8XS2H4lkeu",
        "outputId": "69a0aca9-17cd-4bc5-b84e-2db34060ae32"
      }
    },
    {
      "cell_type": "code",
      "execution_count": 3,
      "source": [
        "data.isnull().any() "
      ],
      "outputs": [
        {
          "output_type": "execute_result",
          "data": {
            "text/plain": [
              "START_DATE*    False\n",
              "END_DATE*       True\n",
              "CATEGORY*       True\n",
              "START*          True\n",
              "STOP*           True\n",
              "MILES*         False\n",
              "PURPOSE*        True\n",
              "dtype: bool"
            ]
          },
          "metadata": {},
          "execution_count": 3
        }
      ],
      "metadata": {
        "colab": {
          "base_uri": "https://localhost:8080/"
        },
        "id": "CclElBEOov1N",
        "outputId": "01297a13-a18f-4ddb-f3bc-37c48d26208d"
      }
    },
    {
      "cell_type": "code",
      "execution_count": 4,
      "source": [
        "data.isnull().sum()"
      ],
      "outputs": [
        {
          "output_type": "execute_result",
          "data": {
            "text/plain": [
              "START_DATE*      0\n",
              "END_DATE*        1\n",
              "CATEGORY*        1\n",
              "START*           1\n",
              "STOP*            1\n",
              "MILES*           0\n",
              "PURPOSE*       503\n",
              "dtype: int64"
            ]
          },
          "metadata": {},
          "execution_count": 4
        }
      ],
      "metadata": {
        "colab": {
          "base_uri": "https://localhost:8080/"
        },
        "id": "ZOPT92K4mcp-",
        "outputId": "61f0535a-85e4-47ec-b244-a2cd8e24e277"
      }
    },
    {
      "cell_type": "code",
      "execution_count": 5,
      "source": [
        "data=data.dropna()"
      ],
      "outputs": [],
      "metadata": {
        "id": "Od5EdoYNm4A3"
      }
    },
    {
      "cell_type": "code",
      "execution_count": 6,
      "source": [
        "data.isnull().sum()"
      ],
      "outputs": [
        {
          "output_type": "execute_result",
          "data": {
            "text/plain": [
              "START_DATE*    0\n",
              "END_DATE*      0\n",
              "CATEGORY*      0\n",
              "START*         0\n",
              "STOP*          0\n",
              "MILES*         0\n",
              "PURPOSE*       0\n",
              "dtype: int64"
            ]
          },
          "metadata": {},
          "execution_count": 6
        }
      ],
      "metadata": {
        "colab": {
          "base_uri": "https://localhost:8080/"
        },
        "id": "nXoRd3IrrRv_",
        "outputId": "2b8a86cd-00b3-4a93-ca1b-49b4a290318b"
      }
    },
    {
      "cell_type": "markdown",
      "source": [
        "Now we can see that there are not missing values in the dataset."
      ],
      "metadata": {
        "id": "BImlk5hHrU61"
      }
    },
    {
      "cell_type": "code",
      "execution_count": 7,
      "source": [
        "data['START_DATE*'] = pd.to_datetime(data['START_DATE*'], format=\"%m/%d/%Y %H:%M\")\r\n",
        "data['END_DATE*'] = pd.to_datetime(data['END_DATE*'], format=\"%m/%d/%Y %H:%M\")"
      ],
      "outputs": [],
      "metadata": {
        "id": "kLs9MBaErTwc"
      }
    },
    {
      "cell_type": "code",
      "execution_count": 8,
      "source": [
        "hour=[]\r\n",
        "day=[]\r\n",
        "dayofweek=[]\r\n",
        "month=[]\r\n",
        "weekday=[]\r\n",
        "for x in data['START_DATE*']:\r\n",
        "    hour.append(x.hour)\r\n",
        "    day.append(x.day)\r\n",
        "    dayofweek.append(x.dayofweek)\r\n",
        "    month.append(x.month)\r\n",
        "    weekday.append(calendar.day_name[dayofweek[-1]])\r\n",
        "data['HOUR']=hour\r\n",
        "data['DAY']=day\r\n",
        "data['DAY_OF_WEEK']=dayofweek\r\n",
        "data['MONTH']=month\r\n",
        "data['WEEKDAY']=weekday"
      ],
      "outputs": [],
      "metadata": {
        "id": "tkHQXmywsLv0"
      }
    },
    {
      "cell_type": "code",
      "execution_count": 9,
      "source": [
        "data.head()"
      ],
      "outputs": [
        {
          "output_type": "execute_result",
          "data": {
            "text/plain": [
              "          START_DATE*           END_DATE* CATEGORY*           START*  \\\n",
              "0 2016-01-01 21:11:00 2016-01-01 21:17:00  Business      Fort Pierce   \n",
              "2 2016-01-02 20:25:00 2016-01-02 20:38:00  Business      Fort Pierce   \n",
              "3 2016-01-05 17:31:00 2016-01-05 17:45:00  Business      Fort Pierce   \n",
              "4 2016-01-06 14:42:00 2016-01-06 15:49:00  Business      Fort Pierce   \n",
              "5 2016-01-06 17:15:00 2016-01-06 17:19:00  Business  West Palm Beach   \n",
              "\n",
              "             STOP*  MILES*         PURPOSE*  HOUR  DAY  DAY_OF_WEEK  MONTH  \\\n",
              "0      Fort Pierce     5.1   Meal/Entertain    21    1            4      1   \n",
              "2      Fort Pierce     4.8  Errand/Supplies    20    2            5      1   \n",
              "3      Fort Pierce     4.7          Meeting    17    5            1      1   \n",
              "4  West Palm Beach    63.7   Customer Visit    14    6            2      1   \n",
              "5  West Palm Beach     4.3   Meal/Entertain    17    6            2      1   \n",
              "\n",
              "     WEEKDAY  \n",
              "0     Friday  \n",
              "2   Saturday  \n",
              "3    Tuesday  \n",
              "4  Wednesday  \n",
              "5  Wednesday  "
            ],
            "text/html": [
              "<div>\n",
              "<style scoped>\n",
              "    .dataframe tbody tr th:only-of-type {\n",
              "        vertical-align: middle;\n",
              "    }\n",
              "\n",
              "    .dataframe tbody tr th {\n",
              "        vertical-align: top;\n",
              "    }\n",
              "\n",
              "    .dataframe thead th {\n",
              "        text-align: right;\n",
              "    }\n",
              "</style>\n",
              "<table border=\"1\" class=\"dataframe\">\n",
              "  <thead>\n",
              "    <tr style=\"text-align: right;\">\n",
              "      <th></th>\n",
              "      <th>START_DATE*</th>\n",
              "      <th>END_DATE*</th>\n",
              "      <th>CATEGORY*</th>\n",
              "      <th>START*</th>\n",
              "      <th>STOP*</th>\n",
              "      <th>MILES*</th>\n",
              "      <th>PURPOSE*</th>\n",
              "      <th>HOUR</th>\n",
              "      <th>DAY</th>\n",
              "      <th>DAY_OF_WEEK</th>\n",
              "      <th>MONTH</th>\n",
              "      <th>WEEKDAY</th>\n",
              "    </tr>\n",
              "  </thead>\n",
              "  <tbody>\n",
              "    <tr>\n",
              "      <th>0</th>\n",
              "      <td>2016-01-01 21:11:00</td>\n",
              "      <td>2016-01-01 21:17:00</td>\n",
              "      <td>Business</td>\n",
              "      <td>Fort Pierce</td>\n",
              "      <td>Fort Pierce</td>\n",
              "      <td>5.1</td>\n",
              "      <td>Meal/Entertain</td>\n",
              "      <td>21</td>\n",
              "      <td>1</td>\n",
              "      <td>4</td>\n",
              "      <td>1</td>\n",
              "      <td>Friday</td>\n",
              "    </tr>\n",
              "    <tr>\n",
              "      <th>2</th>\n",
              "      <td>2016-01-02 20:25:00</td>\n",
              "      <td>2016-01-02 20:38:00</td>\n",
              "      <td>Business</td>\n",
              "      <td>Fort Pierce</td>\n",
              "      <td>Fort Pierce</td>\n",
              "      <td>4.8</td>\n",
              "      <td>Errand/Supplies</td>\n",
              "      <td>20</td>\n",
              "      <td>2</td>\n",
              "      <td>5</td>\n",
              "      <td>1</td>\n",
              "      <td>Saturday</td>\n",
              "    </tr>\n",
              "    <tr>\n",
              "      <th>3</th>\n",
              "      <td>2016-01-05 17:31:00</td>\n",
              "      <td>2016-01-05 17:45:00</td>\n",
              "      <td>Business</td>\n",
              "      <td>Fort Pierce</td>\n",
              "      <td>Fort Pierce</td>\n",
              "      <td>4.7</td>\n",
              "      <td>Meeting</td>\n",
              "      <td>17</td>\n",
              "      <td>5</td>\n",
              "      <td>1</td>\n",
              "      <td>1</td>\n",
              "      <td>Tuesday</td>\n",
              "    </tr>\n",
              "    <tr>\n",
              "      <th>4</th>\n",
              "      <td>2016-01-06 14:42:00</td>\n",
              "      <td>2016-01-06 15:49:00</td>\n",
              "      <td>Business</td>\n",
              "      <td>Fort Pierce</td>\n",
              "      <td>West Palm Beach</td>\n",
              "      <td>63.7</td>\n",
              "      <td>Customer Visit</td>\n",
              "      <td>14</td>\n",
              "      <td>6</td>\n",
              "      <td>2</td>\n",
              "      <td>1</td>\n",
              "      <td>Wednesday</td>\n",
              "    </tr>\n",
              "    <tr>\n",
              "      <th>5</th>\n",
              "      <td>2016-01-06 17:15:00</td>\n",
              "      <td>2016-01-06 17:19:00</td>\n",
              "      <td>Business</td>\n",
              "      <td>West Palm Beach</td>\n",
              "      <td>West Palm Beach</td>\n",
              "      <td>4.3</td>\n",
              "      <td>Meal/Entertain</td>\n",
              "      <td>17</td>\n",
              "      <td>6</td>\n",
              "      <td>2</td>\n",
              "      <td>1</td>\n",
              "      <td>Wednesday</td>\n",
              "    </tr>\n",
              "  </tbody>\n",
              "</table>\n",
              "</div>"
            ]
          },
          "metadata": {},
          "execution_count": 9
        }
      ],
      "metadata": {
        "colab": {
          "base_uri": "https://localhost:8080/",
          "height": 323
        },
        "id": "d-Gf6hgvsds-",
        "outputId": "cb323f54-a850-452f-d4d3-37cd8464b253"
      }
    },
    {
      "cell_type": "markdown",
      "source": [
        "##**Categories We Have**"
      ],
      "metadata": {
        "id": "HtKW7SrevRtd"
      }
    },
    {
      "cell_type": "code",
      "execution_count": 10,
      "source": [
        "data['CATEGORY*'].value_counts()"
      ],
      "outputs": [
        {
          "output_type": "execute_result",
          "data": {
            "text/plain": [
              "Business    647\n",
              "Personal      6\n",
              "Name: CATEGORY*, dtype: int64"
            ]
          },
          "metadata": {},
          "execution_count": 10
        }
      ],
      "metadata": {
        "colab": {
          "base_uri": "https://localhost:8080/"
        },
        "id": "WMnBWxYIv6fX",
        "outputId": "25727280-75a3-4b76-cd5d-af3c88630f70"
      }
    },
    {
      "cell_type": "code",
      "execution_count": 11,
      "source": [
        "sns.countplot(x='CATEGORY*',data=data)"
      ],
      "outputs": [
        {
          "output_type": "execute_result",
          "data": {
            "text/plain": [
              "<AxesSubplot:xlabel='CATEGORY*', ylabel='count'>"
            ]
          },
          "metadata": {},
          "execution_count": 11
        },
        {
          "output_type": "display_data",
          "data": {
            "text/plain": [
              "<Figure size 432x288 with 1 Axes>"
            ],
            "image/png": "[encoded data removed]"
          },
          "metadata": {
            "needs_background": "light"
          }
        }
      ],
      "metadata": {
        "colab": {
          "base_uri": "https://localhost:8080/",
          "height": 296
        },
        "id": "bYwe8EUNuXV5",
        "outputId": "81eae371-7f7a-47a4-e887-54a9e1cbdc70"
      }
    },
    {
      "cell_type": "markdown",
      "source": [
        "We have large number of business rides caegory as against very few personal rides."
      ],
      "metadata": {
        "id": "lUsUpRYLwAnV"
      }
    },
    {
      "cell_type": "markdown",
      "source": [
        "##**How long do people travel with Uber?**"
      ],
      "metadata": {
        "id": "wVhSlOZjwYfc"
      }
    },
    {
      "cell_type": "code",
      "execution_count": 12,
      "source": [
        "data['MILES*'].plot.hist()"
      ],
      "outputs": [
        {
          "output_type": "execute_result",
          "data": {
            "text/plain": [
              "<AxesSubplot:ylabel='Frequency'>"
            ]
          },
          "metadata": {},
          "execution_count": 12
        },
        {
          "output_type": "display_data",
          "data": {
            "text/plain": [
              "<Figure size 432x288 with 1 Axes>"
            ],
            "image/png": "[encoded data removed]"
          },
          "metadata": {
            "needs_background": "light"
          }
        }
      ],
      "metadata": {
        "colab": {
          "base_uri": "https://localhost:8080/",
          "height": 282
        },
        "id": "yvZcYsTuvnJi",
        "outputId": "ddf947d2-1de7-46d9-d2e4-7e0d386a271b"
      }
    },
    {
      "cell_type": "markdown",
      "source": [
        "mostly people travel in a short mile with Uber. "
      ],
      "metadata": {
        "id": "u3WstUd5wgAF"
      }
    },
    {
      "cell_type": "markdown",
      "source": [
        "##**What Hour Do Most People Take Uber To Their Destination?**"
      ],
      "metadata": {
        "id": "SDwy8GC9yk4-"
      }
    },
    {
      "cell_type": "code",
      "execution_count": 13,
      "source": [
        "hours = data['START_DATE*'].dt.hour.value_counts()\r\n",
        "hours.plot(kind='bar',color='red',figsize=(10,5))\r\n",
        "plt.xlabel('Hours')\r\n",
        "plt.ylabel('Frequency')\r\n",
        "plt.title('Number of trips Vs hours')"
      ],
      "outputs": [
        {
          "output_type": "execute_result",
          "data": {
            "text/plain": [
              "Text(0.5, 1.0, 'Number of trips Vs hours')"
            ]
          },
          "metadata": {},
          "execution_count": 13
        },
        {
          "output_type": "display_data",
          "data": {
            "text/plain": [
              "<Figure size 720x360 with 1 Axes>"
            ],
            "image/png": "[encoded data removed]"
          },
          "metadata": {
            "needs_background": "light"
          }
        }
      ],
      "metadata": {
        "colab": {
          "base_uri": "https://localhost:8080/",
          "height": 369
        },
        "id": "Gu5wG0j8weFy",
        "outputId": "be7d1614-0cbf-499e-f796-32b23be837bc"
      }
    },
    {
      "cell_type": "markdown",
      "source": [
        "As we can see most people take Uber to their destination around the 13th hour(1pm) and the least hour is 2 am."
      ],
      "metadata": {
        "id": "96KE4-LOyLAv"
      }
    },
    {
      "cell_type": "markdown",
      "source": [
        "#**Check The Purpose Of Trips**"
      ],
      "metadata": {
        "id": "Ox1kpa4rSM2a"
      }
    },
    {
      "cell_type": "code",
      "execution_count": 14,
      "source": [
        "data['PURPOSE*'].value_counts().plot(kind='bar',figsize=(10,5),color='brown')"
      ],
      "outputs": [
        {
          "output_type": "execute_result",
          "data": {
            "text/plain": [
              "<AxesSubplot:>"
            ]
          },
          "metadata": {},
          "execution_count": 14
        },
        {
          "output_type": "display_data",
          "data": {
            "text/plain": [
              "<Figure size 720x360 with 1 Axes>"
            ],
            "image/png": "[encoded data removed]"
          },
          "metadata": {
            "needs_background": "light"
          }
        }
      ],
      "metadata": {
        "colab": {
          "base_uri": "https://localhost:8080/",
          "height": 408
        },
        "id": "cSuweXCPxQfw",
        "outputId": "a4145383-3c99-4b52-bfe8-6884a2525f09"
      }
    },
    {
      "cell_type": "markdown",
      "source": [
        "We can notice that mostly the purpose of the trip is meeting and meal/entertain."
      ],
      "metadata": {
        "id": "xamGGtZUG3PA"
      }
    },
    {
      "cell_type": "markdown",
      "source": [
        "##**Which Day Has The Highest Number Of Trips**"
      ],
      "metadata": {
        "id": "m_HS_2h-Hjz7"
      }
    },
    {
      "cell_type": "code",
      "execution_count": 15,
      "source": [
        "data['WEEKDAY'].value_counts().plot(kind='bar',figsize=(10,5),color='blue')"
      ],
      "outputs": [
        {
          "output_type": "execute_result",
          "data": {
            "text/plain": [
              "<AxesSubplot:>"
            ]
          },
          "metadata": {},
          "execution_count": 15
        },
        {
          "output_type": "display_data",
          "data": {
            "text/plain": [
              "<Figure size 720x360 with 1 Axes>"
            ],
            "image/png": "[encoded data removed]"
          },
          "metadata": {
            "needs_background": "light"
          }
        }
      ],
      "metadata": {
        "colab": {
          "base_uri": "https://localhost:8080/",
          "height": 385
        },
        "id": "oMbw9lSxG2Vl",
        "outputId": "e59b98ff-340b-484b-de48-c617931c102c"
      }
    },
    {
      "cell_type": "markdown",
      "source": [
        "So Friday has the highest number of Trips."
      ],
      "metadata": {
        "id": "4RWCFIfLAP80"
      }
    },
    {
      "cell_type": "markdown",
      "source": [
        "##**What Are The Number Of Trips Per Each Day?**"
      ],
      "metadata": {
        "id": "s__XVvP064Lq"
      }
    },
    {
      "cell_type": "code",
      "execution_count": 16,
      "source": [
        "data['DAY'].value_counts().plot(kind='bar',figsize=(10,5),color='green')"
      ],
      "outputs": [
        {
          "output_type": "execute_result",
          "data": {
            "text/plain": [
              "<AxesSubplot:>"
            ]
          },
          "metadata": {},
          "execution_count": 16
        },
        {
          "output_type": "display_data",
          "data": {
            "text/plain": [
              "<Figure size 720x360 with 1 Axes>"
            ],
            "image/png": "[encoded data removed]"
          },
          "metadata": {
            "needs_background": "light"
          }
        }
      ],
      "metadata": {
        "colab": {
          "base_uri": "https://localhost:8080/",
          "height": 339
        },
        "id": "icHvEbmyG2Sh",
        "outputId": "f1b1a35a-c612-421e-9cc9-2b74f791459c"
      }
    },
    {
      "cell_type": "markdown",
      "source": [
        "##**What Are The Trips In The Month**"
      ],
      "metadata": {
        "id": "PoN0_6cY8ky_"
      }
    },
    {
      "cell_type": "code",
      "execution_count": 17,
      "source": [
        "data['MONTH'].value_counts().plot(kind='bar',figsize=(10,5),color='black')"
      ],
      "outputs": [
        {
          "output_type": "execute_result",
          "data": {
            "text/plain": [
              "<AxesSubplot:>"
            ]
          },
          "metadata": {},
          "execution_count": 17
        },
        {
          "output_type": "display_data",
          "data": {
            "text/plain": [
              "<Figure size 720x360 with 1 Axes>"
            ],
            "image/png": "[encoded data removed]"
          },
          "metadata": {
            "needs_background": "light"
          }
        }
      ],
      "metadata": {
        "colab": {
          "base_uri": "https://localhost:8080/",
          "height": 342
        },
        "id": "O8cugzJaG2PM",
        "outputId": "7f039f20-03e5-4f22-a870-aff513a572d9"
      }
    },
    {
      "cell_type": "markdown",
      "source": [
        "We can see that December(12) has the most trips."
      ],
      "metadata": {
        "id": "zNDYjjZp_Efl"
      }
    },
    {
      "cell_type": "markdown",
      "source": [
        "##**The starting points of trips. Where Do People Start Boarding Their Trip From Most?**"
      ],
      "metadata": {
        "id": "Dif_1w5--k7e"
      }
    },
    {
      "cell_type": "code",
      "execution_count": 18,
      "source": [
        "data['START*'].value_counts().plot(kind='bar',figsize=(25,10),color='blue')"
      ],
      "outputs": [
        {
          "output_type": "execute_result",
          "data": {
            "text/plain": [
              "<AxesSubplot:>"
            ]
          },
          "metadata": {},
          "execution_count": 18
        },
        {
          "output_type": "display_data",
          "data": {
            "text/plain": [
              "<Figure size 1800x720 with 1 Axes>"
            ],
            "image/png": "[encoded data removed]"
          },
          "metadata": {
            "needs_background": "light"
          }
        }
      ],
      "metadata": {
        "colab": {
          "base_uri": "https://localhost:8080/",
          "height": 753
        },
        "id": "lUUURXrE9G1g",
        "outputId": "76c6aec2-7954-4850-a78d-9752bbf46416"
      }
    },
    {
      "cell_type": "markdown",
      "source": [
        "Most people in this dataset starts their journey from **Cary** followed by some unknown location and then Morrisville."
      ],
      "metadata": {
        "id": "0DYy3fpsAj2V"
      }
    }
  ]
}