{
 "cells": [
  {
   "cell_type": "code",
   "execution_count": 1,
   "metadata": {
    "id": "1AVYgFw9RZe9"
   },
   "outputs": [],
   "source": [
    "# Step 1: Importing libraries and dataset\n",
    "from copy import deepcopy\n",
    "from sklearn.datasets import load_diabetes\n",
    "from sklearn.ensemble import RandomForestRegressor\n",
    "from sklearn import metrics\n",
    "import numpy as np\n",
    "diabetes  =  load_diabetes()\n",
    "train_size = 400\n",
    "train_x, train_y = diabetes.data[:train_size], diabetes.target[:train_size]\n",
    "test_x, test_y = diabetes.data[train_size:], diabetes.target[train_size:]\n",
    "np.random.seed(123456)"
   ]
  },
  {
   "cell_type": "code",
   "execution_count": 2,
   "metadata": {
    "id": "GCfurjT-T3TP"
   },
   "outputs": [],
   "source": [
    "# Step 2: create the ensemble\n",
    "ensemble_size = 100\n",
    "ensemble = RandomForestRegressor(n_estimators=ensemble_size, n_jobs=4)"
   ]
  },
  {
   "cell_type": "code",
   "execution_count": 3,
   "metadata": {
    "colab": {
     "base_uri": "https://localhost:8080/"
    },
    "id": "LGWxxFWuUBOh",
    "outputId": "45024ac4-131d-45f6-82c5-524b7ec1db12"
   },
   "outputs": [
    {
     "data": {
      "text/plain": [
       "RandomForestRegressor(n_jobs=4)"
      ]
     },
     "execution_count": 3,
     "metadata": {},
     "output_type": "execute_result"
    }
   ],
   "source": [
    "# Step 3: train the ensemble\n",
    "ensemble.fit(train_x,train_y)"
   ]
  },
  {
   "cell_type": "code",
   "execution_count": 4,
   "metadata": {
    "id": "B1VUME6EUH8z"
   },
   "outputs": [],
   "source": [
    "# Step 4: Evaluate the ensemble\n",
    "predictions = ensemble.predict(test_x)"
   ]
  },
  {
   "cell_type": "code",
   "execution_count": 5,
   "metadata": {
    "colab": {
     "base_uri": "https://localhost:8080/"
    },
    "id": "qTeUHSYaUUnB",
    "outputId": "e687c2fa-7d2f-43cb-c991-7832fa002383"
   },
   "outputs": [
    {
     "name": "stdout",
     "output_type": "stream",
     "text": [
      "Random Forest: \n",
      "R-squared: 0.51\n",
      "MSE: 2729.81\n"
     ]
    }
   ],
   "source": [
    "# Step 5: Print the metrics\n",
    "r2= metrics.r2_score(test_y, predictions)\n",
    "mse = metrics.mean_squared_error(test_y, predictions)\n",
    "\n",
    "print('Random Forest: ')\n",
    "print('R-squared: %.2f' % r2)\n",
    "print('MSE: %.2f' % mse)"
   ]
  },
  {
   "cell_type": "markdown",
   "metadata": {
    "id": "AaHhzZ-wWIme"
   },
   "source": [
    "The ensemble is able to produce R-squared of 0.51 and an MSE of 2729.81 on the test set. As the R-squared and MSE on the train set are 0.92 and 468.13 respectively, it is safe to assume that the ensemble overfits.\n",
    "\n",
    "This is the case where the error limit overfits, adn thus we ned to regulate the individual trees in order to achieve better results.\n",
    "\n",
    "\n",
    "By reducing the minimum number of samples required to be at each leaf node (increased to 20 from the default value of 2) through min_samples_leaf = 20.\n",
    "\n",
    "\n",
    "We are able to increase R-squared to 0.6 and MSE to 2206.6\n",
    "\n",
    "Furthermore, by increasing the ensemble size to 1000, R-squared is further to increased to 0.61 and MSE is further decreased to 2158.73"
   ]
  }
 ],
 "metadata": {
  "colab": {
   "name": "Udemy Random forests Implementation for Regression.ipynb",
   "provenance": []
  },
  "kernelspec": {
   "display_name": "Python 3",
   "language": "python",
   "name": "python3"
  },
  "language_info": {
   "codemirror_mode": {
    "name": "ipython",
    "version": 3
   },
   "file_extension": ".py",
   "mimetype": "text/x-python",
   "name": "python",
   "nbconvert_exporter": "python",
   "pygments_lexer": "ipython3",
   "version": "3.8.5"
  }
 },
 "nbformat": 4,
 "nbformat_minor": 1
}
