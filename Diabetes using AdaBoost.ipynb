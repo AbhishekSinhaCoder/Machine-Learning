{
 "cells": [
  {
   "cell_type": "code",
   "execution_count": 1,
   "metadata": {
    "id": "AnRWXo9QVjev"
   },
   "outputs": [],
   "source": [
    "# Step 1: Import libraries and data\n",
    "from copy import deepcopy\n",
    "import numpy as np\n",
    "from sklearn.datasets import load_diabetes\n",
    "from sklearn.tree import DecisionTreeRegressor\n",
    "from sklearn.ensemble import AdaBoostRegressor\n",
    "from sklearn import metrics\n",
    "diabetes = load_diabetes()\n",
    "#Split the train and test set\n",
    "train_size = 400\n",
    "train_x, train_y = diabetes.data[:train_size], diabetes.target[:train_size]\n",
    "test_x, test_y = diabetes.data[train_size:], diabetes.target[train_size:]\n",
    "np.random.seed(123456)"
   ]
  },
  {
   "cell_type": "code",
   "execution_count": 2,
   "metadata": {
    "id": "YUQHBhwAZBVZ"
   },
   "outputs": [],
   "source": [
    "# Step 2: Create the ensemble\n",
    "ensemble_size = 1000\n",
    "ensemble = AdaBoostRegressor(n_estimators=ensemble_size)"
   ]
  },
  {
   "cell_type": "code",
   "execution_count": 3,
   "metadata": {
    "colab": {
     "base_uri": "https://localhost:8080/"
    },
    "id": "9SjbYVJ-ZPsj",
    "outputId": "3d8b1605-8408-46a5-88bb-08f7c26433aa"
   },
   "outputs": [
    {
     "data": {
      "text/plain": [
       "AdaBoostRegressor(n_estimators=1000)"
      ]
     },
     "execution_count": 3,
     "metadata": {},
     "output_type": "execute_result"
    }
   ],
   "source": [
    "# Step 3: train the ensemble\n",
    "ensemble.fit(train_x,train_y)"
   ]
  },
  {
   "cell_type": "code",
   "execution_count": 4,
   "metadata": {
    "id": "D5Jmy2TpZX0b"
   },
   "outputs": [],
   "source": [
    "#Step 4: Evaluate the ensemble\n",
    "predictions = ensemble.predict(test_x)\n"
   ]
  },
  {
   "cell_type": "code",
   "execution_count": 5,
   "metadata": {
    "colab": {
     "base_uri": "https://localhost:8080/"
    },
    "id": "_0LhR6eqZkxj",
    "outputId": "9a6f8f5b-3f30-47ba-c6d9-7900d2966a2c"
   },
   "outputs": [
    {
     "name": "stdout",
     "output_type": "stream",
     "text": [
      "Gradient Boosting: \n",
      "R-squared: 0.56\n",
      "MSE: 2417.89\n"
     ]
    }
   ],
   "source": [
    "# Step 5: Print metrics\n",
    "r2 = metrics.r2_score(test_y, predictions)\n",
    "mse = metrics.mean_squared_error(test_y, predictions)\n",
    "print('Gradient Boosting: ')\n",
    "print('R-squared: %.2f' % r2)\n",
    "print('MSE: %.2f'%mse)"
   ]
  },
  {
   "cell_type": "markdown",
   "metadata": {
    "id": "3jMrnCpJX5Ie"
   },
   "source": [
    "The ensemble generates an R-squared of 0.56 and an MSE of 2417.89."
   ]
  }
 ],
 "metadata": {
  "colab": {
   "name": "Udemy AdaBoost Method 2 Implementation for Regression.ipynb",
   "provenance": []
  },
  "kernelspec": {
   "display_name": "Python 3",
   "language": "python",
   "name": "python3"
  },
  "language_info": {
   "codemirror_mode": {
    "name": "ipython",
    "version": 3
   },
   "file_extension": ".py",
   "mimetype": "text/x-python",
   "name": "python",
   "nbconvert_exporter": "python",
   "pygments_lexer": "ipython3",
   "version": "3.8.5"
  }
 },
 "nbformat": 4,
 "nbformat_minor": 1
}
