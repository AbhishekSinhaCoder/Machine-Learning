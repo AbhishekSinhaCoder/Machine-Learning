{
 "cells": [
  {
   "cell_type": "code",
   "execution_count": 1,
   "metadata": {
    "id": "1AVYgFw9RZe9"
   },
   "outputs": [],
   "source": [
    "# Step 1: Importing libraries and dataset\n",
    "from sklearn.datasets import load_digits\n",
    "from sklearn.ensemble import RandomForestClassifier\n",
    "from sklearn import metrics\n",
    "import numpy as np\n",
    "digits  =  load_digits()\n",
    "train_size = 1500\n",
    "train_x, train_y = digits.data[:train_size], digits.target[:train_size]\n",
    "test_x, test_y = digits.data[train_size:], digits.target[train_size:]\n",
    "np.random.seed(123456)"
   ]
  },
  {
   "cell_type": "code",
   "execution_count": 2,
   "metadata": {
    "id": "GCfurjT-T3TP"
   },
   "outputs": [],
   "source": [
    "# Step 2: create the ensemble\n",
    "ensemble_size = 500\n",
    "ensemble = RandomForestClassifier(n_estimators=ensemble_size, n_jobs=4)"
   ]
  },
  {
   "cell_type": "code",
   "execution_count": 3,
   "metadata": {
    "colab": {
     "base_uri": "https://localhost:8080/"
    },
    "id": "LGWxxFWuUBOh",
    "outputId": "a0111f3d-4afa-4a05-84b1-506665996f3b"
   },
   "outputs": [
    {
     "data": {
      "text/plain": [
       "RandomForestClassifier(n_estimators=500, n_jobs=4)"
      ]
     },
     "execution_count": 3,
     "metadata": {},
     "output_type": "execute_result"
    }
   ],
   "source": [
    "# Step 3: train the ensemble\n",
    "ensemble.fit(train_x,train_y)"
   ]
  },
  {
   "cell_type": "code",
   "execution_count": 4,
   "metadata": {
    "id": "B1VUME6EUH8z"
   },
   "outputs": [],
   "source": [
    "# Step 4: Evaluate the ensemble\n",
    "ensemble_predictions = ensemble.predict(test_x)\n",
    "ensemble_acc = metrics.accuracy_score(test_y, ensemble_predictions)"
   ]
  },
  {
   "cell_type": "code",
   "execution_count": 5,
   "metadata": {
    "colab": {
     "base_uri": "https://localhost:8080/"
    },
    "id": "qTeUHSYaUUnB",
    "outputId": "3a2adab0-4846-4c95-a74e-0df563aa61e7"
   },
   "outputs": [
    {
     "name": "stdout",
     "output_type": "stream",
     "text": [
      "Random Forest: 0.93\n"
     ]
    }
   ],
   "source": [
    "# Step 5: Print the accuracy\n",
    "print('Random Forest: %.2f' % ensemble_acc)"
   ]
  },
  {
   "cell_type": "markdown",
   "metadata": {
    "id": "d6GSVguHUeh_"
   },
   "source": [
    "The classifier achieve 93% which is higher than previous best performing method (XGBoost)"
   ]
  }
 ],
 "metadata": {
  "colab": {
   "name": "Udemy Random forests Implementation for classification.ipynb",
   "provenance": []
  },
  "kernelspec": {
   "display_name": "Python 3",
   "language": "python",
   "name": "python3"
  }
 },
 "nbformat": 4,
 "nbformat_minor": 1
}
